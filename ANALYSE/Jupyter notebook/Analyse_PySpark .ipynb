{
 "cells": [
  {
   "cell_type": "markdown",
   "id": "32cf11b4",
   "metadata": {},
   "source": [
    "# SUJET: Analyser les données du site e-commerce pour identifier les tendances, les comportements des utilisateurs, et les opportunités d'amélioration"
   ]
  },
  {
   "cell_type": "markdown",
   "id": "93ceec35-e315-4836-b037-e78b67242b04",
   "metadata": {},
   "source": [
    "## IMPORTER LES LIBRAIRIES"
   ]
  },
  {
   "cell_type": "code",
   "execution_count": 2,
   "id": "faed70b6",
   "metadata": {},
   "outputs": [],
   "source": [
    "import os\n",
    "from pyspark.sql import SparkSession\n",
    "from pyspark.sql import functions as F\n",
    "from pyspark.sql import Window\n",
    "import pandas as pd  #manipulation des donnees\n",
    "import numpy as np   #calcul mathematiques\n",
    "import seaborn as sns   #visualiser les données\n",
    "import matplotlib.pyplot as plt  #visualisation\n",
    "import scipy as scipy   # faire des statistques et des probabilités\n",
    "import warnings         #gestion des avertissements\n",
    "warnings.filterwarnings('ignore')"
   ]
  },
  {
   "cell_type": "markdown",
   "id": "6d11d622-cfb0-42e9-a23b-52d8ba95cb95",
   "metadata": {},
   "source": [
    "## ETABLIR LE RESEAU EN LOCAL"
   ]
  },
  {
   "cell_type": "code",
   "execution_count": 3,
   "id": "eab6d320-36ad-4811-8b4c-d59dbf2ebe5c",
   "metadata": {},
   "outputs": [],
   "source": [
    "# Forcer l'utilisation de localhost, pour éviter les erreurs de configuration réseau\n",
    "os.environ['SPARK_LOCAL_IP'] = 'localhost' "
   ]
  },
  {
   "cell_type": "markdown",
   "id": "16e7db69",
   "metadata": {},
   "source": [
    "#### Compréhension des variables\n",
    "\n",
    "timestamp: valeur numérique qui représente un instant précis dans le temps, plus sous cette forme 2025-02-15 14:30:00\n",
    "\n",
    "visitorid: l'id des visiteurs\n",
    "\n",
    "event: Vue, carte ajoutée dans le panier, transaction\n",
    "\n",
    "transactionid: l'id de la transaction\n",
    "\n",
    "categoryid: l'id de la categories\n",
    "\n",
    "parentid: l'id des parents\n",
    "\n",
    "itemid: l'id de l'article\n",
    "\n",
    "property: propriétés des articles"
   ]
  },
  {
   "cell_type": "markdown",
   "id": "ac3792ae",
   "metadata": {},
   "source": [
    "## INITIALISATION D'UNE SESSION SPARK"
   ]
  },
  {
   "cell_type": "code",
   "execution_count": 4,
   "id": "33613e90-7d74-4008-9f23-21a8d9dead81",
   "metadata": {},
   "outputs": [
    {
     "name": "stderr",
     "output_type": "stream",
     "text": [
      "Setting default log level to \"WARN\".\n",
      "To adjust logging level use sc.setLogLevel(newLevel). For SparkR, use setLogLevel(newLevel).\n",
      "25/08/18 18:49:27 WARN NativeCodeLoader: Unable to load native-hadoop library for your platform... using builtin-java classes where applicable\n"
     ]
    }
   ],
   "source": [
    "spark = (SparkSession.builder\n",
    "    .appName(\"AppEcommerce\") \n",
    "    .master(\"local[4]\") # 4 cœurs, donc 50% du nombre de mes coeurs\n",
    "    .config(\"spark.driver.memory\", \"8G\") # 50% de ma RAM\n",
    "    .config(\"spark.sql.shuffle.partitions\", \"100\") # Adapté pour 4 cœurs\n",
    "    .getOrCreate())"
   ]
  },
  {
   "cell_type": "code",
   "execution_count": 5,
   "id": "d095257b-ae39-4bcf-bb05-9c3f60b16cb4",
   "metadata": {},
   "outputs": [
    {
     "name": "stdout",
     "output_type": "stream",
     "text": [
      "Mémoire allouée RAM : 8G\n"
     ]
    }
   ],
   "source": [
    "# Vérifier la mémoire allouée\n",
    "print(\"Mémoire allouée RAM :\", spark.sparkContext.getConf().get(\"spark.driver.memory\"))  # Doit afficher"
   ]
  },
  {
   "cell_type": "markdown",
   "id": "bd452034",
   "metadata": {},
   "source": [
    "## IMPORTER LES DONNEES"
   ]
  },
  {
   "cell_type": "markdown",
   "id": "77226870-301a-48a9-bafe-3d8774b0cfa2",
   "metadata": {},
   "source": [
    "#### DATA EVENTS"
   ]
  },
  {
   "cell_type": "code",
   "execution_count": null,
   "id": "2b5ace84",
   "metadata": {},
   "outputs": [
    {
     "name": "stderr",
     "output_type": "stream",
     "text": [
      "                                                                                "
     ]
    }
   ],
   "source": [
    "# Lire le fichier csv\n",
    "data_events = spark.read.csv(r\"C:\\Users\\Эли Жоэль\\ANALYSE_DE_PERFORMANCES_ET_OPTIMISATION_DE_SITE_E-COMMERCE\\data\\transformed\\events.csv\", \n",
    "                   header=True,         # Si le fichier a des en-têtes\n",
    "                   inferSchema=True,)   # Détecte les types (sinon tout en string)"
   ]
  },
  {
   "cell_type": "code",
   "execution_count": 7,
   "id": "544ddf63-d2a1-4e67-a268-20cc030bb462",
   "metadata": {},
   "outputs": [
    {
     "name": "stdout",
     "output_type": "stream",
     "text": [
      "+-------------+---------+---------+------+-------------+\n",
      "|    timestamp|visitorid|    event|itemid|transactionid|\n",
      "+-------------+---------+---------+------+-------------+\n",
      "|1433221332117|   257597|     view|355908|         NULL|\n",
      "|1433224214164|   992329|     view|248676|         NULL|\n",
      "|1433221999827|   111016|     view|318965|         NULL|\n",
      "|1433221955914|   483717|     view|253185|         NULL|\n",
      "|1433221337106|   951259|     view|367447|         NULL|\n",
      "|1433224086234|   972639|     view| 22556|         NULL|\n",
      "|1433221923240|   810725|     view|443030|         NULL|\n",
      "|1433223291897|   794181|     view|439202|         NULL|\n",
      "|1433220899221|   824915|     view|428805|         NULL|\n",
      "|1433221204592|   339335|     view| 82389|         NULL|\n",
      "|1433222162373|   176446|     view| 10572|         NULL|\n",
      "|1433221701252|   929206|     view|410676|         NULL|\n",
      "|1433224229496|    15795|     view| 44872|         NULL|\n",
      "|1433223697356|   598426|     view|156489|         NULL|\n",
      "|1433224078165|   223343|     view|402625|         NULL|\n",
      "|1433222531378|    57036|     view|334662|         NULL|\n",
      "|1433223239808|  1377281|     view|251467|         NULL|\n",
      "|1433223236124|   287857|addtocart|  5206|         NULL|\n",
      "|1433224244282|  1370216|     view|176721|         NULL|\n",
      "|1433221078505|   158090|addtocart| 10572|         NULL|\n",
      "+-------------+---------+---------+------+-------------+\n",
      "only showing top 20 rows\n",
      "\n"
     ]
    }
   ],
   "source": [
    "data_events.show()"
   ]
  },
  {
   "cell_type": "code",
   "execution_count": 8,
   "id": "8fbf69c4-d1aa-4b67-be3b-cba0b8e2e556",
   "metadata": {},
   "outputs": [
    {
     "data": {
      "text/plain": [
       "[('timestamp', 'bigint'),\n",
       " ('visitorid', 'int'),\n",
       " ('event', 'string'),\n",
       " ('itemid', 'int'),\n",
       " ('transactionid', 'int')]"
      ]
     },
     "execution_count": 8,
     "metadata": {},
     "output_type": "execute_result"
    }
   ],
   "source": [
    "# voir les types de colonnes\n",
    "data_events.dtypes"
   ]
  },
  {
   "cell_type": "markdown",
   "id": "468d4d10-5e07-4fa0-b98a-853e9b6c7c08",
   "metadata": {},
   "source": [
    "#### DATA_CATEGORY"
   ]
  },
  {
   "cell_type": "code",
   "execution_count": null,
   "id": "aa4171f9-dfee-4ab0-8a7f-12faca6bbbce",
   "metadata": {},
   "outputs": [],
   "source": [
    "data_category = spark.read.csv(r\"C:\\Users\\Эли Жоэль\\ANALYSE_DE_PERFORMANCES_ET_OPTIMISATION_DE_SITE_E-COMMERCE\\data\\transformed\\category_tree.csv\", \n",
    "                   header=True,       \n",
    "                   inferSchema=True,)"
   ]
  },
  {
   "cell_type": "code",
   "execution_count": 10,
   "id": "e663a8ca-1032-4bae-b456-43bdaa14da7e",
   "metadata": {},
   "outputs": [
    {
     "name": "stdout",
     "output_type": "stream",
     "text": [
      "+----------+--------+\n",
      "|categoryid|parentid|\n",
      "+----------+--------+\n",
      "|      1016|     213|\n",
      "|       809|     169|\n",
      "|       570|       9|\n",
      "|      1691|     885|\n",
      "|       536|    1691|\n",
      "|       231|    NULL|\n",
      "|       542|     378|\n",
      "|      1146|     542|\n",
      "|      1140|     542|\n",
      "|      1479|    1537|\n",
      "|        83|    1621|\n",
      "|       688|     893|\n",
      "|       257|     312|\n",
      "|      1640|     622|\n",
      "|       963|    1281|\n",
      "|       412|    1110|\n",
      "|       948|    1110|\n",
      "|       934|    1110|\n",
      "|       148|    1110|\n",
      "|        12|    1110|\n",
      "+----------+--------+\n",
      "only showing top 20 rows\n",
      "\n"
     ]
    }
   ],
   "source": [
    "data_category.show()"
   ]
  },
  {
   "cell_type": "code",
   "execution_count": 12,
   "id": "7cec5d95-afb2-40f1-84e4-5cd2f50a0987",
   "metadata": {},
   "outputs": [
    {
     "data": {
      "text/plain": [
       "[('categoryid', 'int'), ('parentid', 'int')]"
      ]
     },
     "execution_count": 12,
     "metadata": {},
     "output_type": "execute_result"
    }
   ],
   "source": [
    "# voir les types de colonnes\n",
    "data_category.dtypes"
   ]
  },
  {
   "cell_type": "markdown",
   "id": "512aa6c6-6515-4e8a-993a-76e527c6dc22",
   "metadata": {},
   "source": [
    "#### DATA_ITEM_PROPERTIES_1"
   ]
  },
  {
   "cell_type": "code",
   "execution_count": null,
   "id": "c2934e24-44c2-4cff-afe9-3aaa5b2edcb7",
   "metadata": {},
   "outputs": [
    {
     "name": "stderr",
     "output_type": "stream",
     "text": [
      "                                                                                "
     ]
    }
   ],
   "source": [
    "data_item_properties_1=spark.read.csv(r\"C:\\Users\\Эли Жоэль\\ANALYSE_DE_PERFORMANCES_ET_OPTIMISATION_DE_SITE_E-COMMERCE\\data\\transformed\\item_properties_part1.csv\",\n",
    "                                      header=True,\n",
    "                                      inferSchema=True)"
   ]
  },
  {
   "cell_type": "code",
   "execution_count": 14,
   "id": "bc9c987c-1ffc-4a44-bc1c-bb4ea275d4c4",
   "metadata": {},
   "outputs": [
    {
     "name": "stdout",
     "output_type": "stream",
     "text": [
      "+-------------+------+----------+--------------------+\n",
      "|    timestamp|itemid|  property|               value|\n",
      "+-------------+------+----------+--------------------+\n",
      "|1435460400000|460429|categoryid|                1338|\n",
      "|1441508400000|206783|       888|1116713 960601 n2...|\n",
      "|1439089200000|395014|       400|n552.000 639502 n...|\n",
      "|1431226800000| 59481|       790|          n15360.000|\n",
      "|1431831600000|156781|       917|              828513|\n",
      "|1436065200000|285026| available|                   0|\n",
      "|1434250800000| 89534|       213|             1121373|\n",
      "|1431831600000|264312|         6|              319724|\n",
      "|1433646000000|229370|       202|             1330310|\n",
      "|1434250800000| 98113|       451|     1141052 n48.000|\n",
      "|1439089200000|450113|       888|1038400 45956 n50...|\n",
      "|1435460400000|244127|       400|n552.000 639502 n...|\n",
      "|1439694000000|264319|       227|      1283144 353870|\n",
      "|1439694000000|348323|       839|     1026952 1162729|\n",
      "|1434250800000|169055|       790|          n21000.000|\n",
      "|1437274800000|186518| available|                   0|\n",
      "|1435460400000|178601|       790|           n5400.000|\n",
      "|1436670000000|319291|       888|             1292080|\n",
      "|1437274800000| 49337|         0|n36.000 1186610 1...|\n",
      "|1435460400000|363598|      1022|       857891 593337|\n",
      "+-------------+------+----------+--------------------+\n",
      "only showing top 20 rows\n",
      "\n"
     ]
    }
   ],
   "source": [
    "data_item_properties_1.show()"
   ]
  },
  {
   "cell_type": "markdown",
   "id": "7c086bd4-11f1-4fbc-840f-89079115493c",
   "metadata": {},
   "source": [
    "#### DATA_ITEM_PROPERTIES_2"
   ]
  },
  {
   "cell_type": "code",
   "execution_count": null,
   "id": "319b21db-ccda-4b3a-a395-a737a8e9fb0a",
   "metadata": {},
   "outputs": [
    {
     "name": "stderr",
     "output_type": "stream",
     "text": [
      "                                                                                "
     ]
    }
   ],
   "source": [
    "data_item_properties_2=spark.read.csv(r\"C:\\Users\\Эли Жоэль\\ANALYSE_DE_PERFORMANCES_ET_OPTIMISATION_DE_SITE_E-COMMERCE\\data\\transformed\\item_properties_part2.csv\",\n",
    "                                      header=True,\n",
    "                                      inferSchema=True)"
   ]
  },
  {
   "cell_type": "code",
   "execution_count": 16,
   "id": "e638a84a-1148-4300-97df-1e8e51904446",
   "metadata": {},
   "outputs": [
    {
     "name": "stdout",
     "output_type": "stream",
     "text": [
      "+-------------+------+----------+--------------------+\n",
      "|    timestamp|itemid|  property|               value|\n",
      "+-------------+------+----------+--------------------+\n",
      "|1433041200000|183478|       561|              769062|\n",
      "|1439694000000|132256|       976|     n26.400 1135780|\n",
      "|1435460400000|420307|       921|     1149317 1257525|\n",
      "|1431831600000|403324|       917|             1204143|\n",
      "|1435460400000|230701|       521|              769062|\n",
      "|1433041200000|286407|       202|              820407|\n",
      "|1438484400000|256368|       888|437265 1296497 n2...|\n",
      "|1437879600000|307534|       888|150169 212349 109...|\n",
      "|1439089200000|102767|       888|5135 790941 10558...|\n",
      "|1431831600000|215180|        71|             1096621|\n",
      "|1435460400000|319117|       202|              876900|\n",
      "|1433041200000|377946|       202|235534 307222 237...|\n",
      "|1432436400000|177411|       663|            n204.000|\n",
      "|1435460400000| 27497|        71|             1115859|\n",
      "|1431831600000|430773|       283|257131 82777 4938...|\n",
      "|1431226800000|  8921|categoryid|                1188|\n",
      "|1435460400000|228955|       888|             1206551|\n",
      "|1433041200000|429072|       575|709083 n960000111...|\n",
      "|1431226800000|362491|       283|1283144 353870 10...|\n",
      "|1437879600000|400708|       544|     1055803 1164666|\n",
      "+-------------+------+----------+--------------------+\n",
      "only showing top 20 rows\n",
      "\n"
     ]
    }
   ],
   "source": [
    "data_item_properties_2.show()"
   ]
  },
  {
   "cell_type": "markdown",
   "id": "b0dc67f5-c39a-4859-86b4-2a43f6616f5f",
   "metadata": {},
   "source": [
    "#### DATA_ITEM_PROPERTIES"
   ]
  },
  {
   "cell_type": "code",
   "execution_count": 17,
   "id": "13b665a6-b3b7-4334-bbb4-c76826948233",
   "metadata": {},
   "outputs": [
    {
     "name": "stdout",
     "output_type": "stream",
     "text": [
      "+-------------+------+----------+--------------------+\n",
      "|    timestamp|itemid|  property|               value|\n",
      "+-------------+------+----------+--------------------+\n",
      "|1435460400000|460429|categoryid|                1338|\n",
      "|1441508400000|206783|       888|1116713 960601 n2...|\n",
      "|1439089200000|395014|       400|n552.000 639502 n...|\n",
      "|1431226800000| 59481|       790|          n15360.000|\n",
      "|1431831600000|156781|       917|              828513|\n",
      "|1436065200000|285026| available|                   0|\n",
      "|1434250800000| 89534|       213|             1121373|\n",
      "|1431831600000|264312|         6|              319724|\n",
      "|1433646000000|229370|       202|             1330310|\n",
      "|1434250800000| 98113|       451|     1141052 n48.000|\n",
      "|1439089200000|450113|       888|1038400 45956 n50...|\n",
      "|1435460400000|244127|       400|n552.000 639502 n...|\n",
      "|1439694000000|264319|       227|      1283144 353870|\n",
      "|1439694000000|348323|       839|     1026952 1162729|\n",
      "|1434250800000|169055|       790|          n21000.000|\n",
      "|1437274800000|186518| available|                   0|\n",
      "|1435460400000|178601|       790|           n5400.000|\n",
      "|1436670000000|319291|       888|             1292080|\n",
      "|1437274800000| 49337|         0|n36.000 1186610 1...|\n",
      "|1435460400000|363598|      1022|       857891 593337|\n",
      "+-------------+------+----------+--------------------+\n",
      "only showing top 20 rows\n",
      "\n"
     ]
    }
   ],
   "source": [
    "# Concaténation (union des tables avec mêmes colonnes)des deux item_properties 1 et 2\n",
    "data_item_properties=data_item_properties_1.union(data_item_properties_2)\n",
    "data_item_properties.show()"
   ]
  },
  {
   "cell_type": "code",
   "execution_count": 18,
   "id": "ba24418a-719d-4112-a88a-77cbcc5570dd",
   "metadata": {},
   "outputs": [
    {
     "data": {
      "text/plain": [
       "[('timestamp', 'bigint'),\n",
       " ('itemid', 'int'),\n",
       " ('property', 'string'),\n",
       " ('value', 'string')]"
      ]
     },
     "execution_count": 18,
     "metadata": {},
     "output_type": "execute_result"
    }
   ],
   "source": [
    "# Voir les types de colonne\n",
    "data_item_properties.dtypes"
   ]
  },
  {
   "cell_type": "code",
   "execution_count": 42,
   "id": "0a11d645-5a17-465d-842a-d70e1844ae60",
   "metadata": {},
   "outputs": [
    {
     "name": "stderr",
     "output_type": "stream",
     "text": [
      "[Stage 95:>                                                         (0 + 1) / 1]"
     ]
    },
    {
     "name": "stdout",
     "output_type": "stream",
     "text": [
      "+------+-------------+----------+-----+---------+-----+-------------+\n",
      "|itemid|    timestamp|  property|value|visitorid|event|transactionid|\n",
      "+------+-------------+----------+-----+---------+-----+-------------+\n",
      "| 13810|1433041200000|categoryid| 1421|     NULL| NULL|         NULL|\n",
      "| 35575|1435460400000|categoryid| 1059|     NULL| NULL|         NULL|\n",
      "| 47849|1431226800000|categoryid| 1510|     NULL| NULL|         NULL|\n",
      "| 49832|1433646000000|categoryid| 1167|     NULL| NULL|         NULL|\n",
      "| 50588|1431226800000|categoryid| 1592|     NULL| NULL|         NULL|\n",
      "| 57396|1431831600000|categoryid|  914|     NULL| NULL|         NULL|\n",
      "| 72725|1431226800000|categoryid|  342|     NULL| NULL|         NULL|\n",
      "| 76151|1440903600000|categoryid| 1085|     NULL| NULL|         NULL|\n",
      "| 76417|1441508400000|categoryid| 1244|     NULL| NULL|         NULL|\n",
      "| 80067|1431226800000|categoryid| 1142|     NULL| NULL|         NULL|\n",
      "|115407|1439089200000|categoryid|  491|     NULL| NULL|         NULL|\n",
      "|119360|1439089200000|categoryid|  491|     NULL| NULL|         NULL|\n",
      "|119593|1435460400000|categoryid| 1404|     NULL| NULL|         NULL|\n",
      "|122405|1433041200000|categoryid|  769|     NULL| NULL|         NULL|\n",
      "|129287|1431226800000|categoryid| 1298|     NULL| NULL|         NULL|\n",
      "|140166|1433646000000|categoryid| 1142|     NULL| NULL|         NULL|\n",
      "|150203|1431226800000|categoryid|  844|     NULL| NULL|         NULL|\n",
      "|154714|1431226800000|categoryid|  173|     NULL| NULL|         NULL|\n",
      "|158241|1437274800000|categoryid|   74|     NULL| NULL|         NULL|\n",
      "|158304|1433041200000|categoryid| 1069|     NULL| NULL|         NULL|\n",
      "+------+-------------+----------+-----+---------+-----+-------------+\n",
      "only showing top 20 rows\n",
      "\n"
     ]
    },
    {
     "name": "stderr",
     "output_type": "stream",
     "text": [
      "                                                                                "
     ]
    }
   ],
   "source": [
    "# Pour filtrer les événements par vue\n",
    "eli.filter(eli[\"property\"] == \"categoryid\").show()"
   ]
  },
  {
   "cell_type": "code",
   "execution_count": 43,
   "id": "7a317613-df52-460a-b194-4ac43c412d96",
   "metadata": {},
   "outputs": [
    {
     "name": "stderr",
     "output_type": "stream",
     "text": [
      "[Stage 100:=============================================>           (4 + 1) / 5]"
     ]
    },
    {
     "name": "stdout",
     "output_type": "stream",
     "text": [
      "+-----+\n",
      "|event|\n",
      "+-----+\n",
      "| NULL|\n",
      "+-----+\n",
      "\n"
     ]
    },
    {
     "name": "stderr",
     "output_type": "stream",
     "text": [
      "                                                                                "
     ]
    }
   ],
   "source": [
    "eli.select('event').distinct().show()"
   ]
  },
  {
   "cell_type": "markdown",
   "id": "aaa6bcd6-bd8b-44e4-ad1c-0a43d2490b9f",
   "metadata": {},
   "source": [
    "## ANALYSE DU COMPORTEMENT UTILISATEUR "
   ]
  },
  {
   "cell_type": "markdown",
   "id": "5ac87240-22ce-473f-ad56-e0105c2ce10b",
   "metadata": {},
   "source": [
    "#### Pour analyser le <font color=\"red\">comportement utilisateur <font color=\"black\"> nous allons plus nous intéresser à la table <font color=\"red\">DATA_EVENTS <font color=\"black\"> qui comporte les colonnes: <font color=\"red\">temps, visiteur, article,  évènements effectués et transactions.<font color=\"black\"> C'est avec ces informations de colonne que nous pouvons effectuer les analyses de comportement utilisateur, contrairement aux autres tables qui informent plus sur les catégories d'articles et leurs valeurs."
   ]
  },
  {
   "cell_type": "markdown",
   "id": "59bbced5-22ed-4ed8-9251-b2071182b932",
   "metadata": {},
   "source": [
    "### <font color=\"green\"> TEMPS PASSE SUR CHAQUE EVENEMENT"
   ]
  },
  {
   "cell_type": "markdown",
   "id": "8f56f6a7-66f9-4e4d-b0f6-a9144f43eaef",
   "metadata": {},
   "source": [
    "#### On va créer une table <font color=\"red\"> USERS_TIME <font color=\"black\"> à partir de la table <font color=\"red\"> DATA_EVENTS <font color=\"black\"> et utiliser les colonnes: <font color=\"red\"> 'timestamp','visitorid'<font color=\"black\"> et <font color=\"red\">'itemid'.<font color=\"black\"> Pourquoi utiliser toutes ces colonnes, parce que pour un site E-Commerce ces colonnes sont importantes."
   ]
  },
  {
   "cell_type": "code",
   "execution_count": 20,
   "id": "21b351e4-bd89-44f4-aa22-79dddf642c64",
   "metadata": {},
   "outputs": [
    {
     "name": "stderr",
     "output_type": "stream",
     "text": [
      "[Stage 16:>                                                         (0 + 1) / 1]"
     ]
    },
    {
     "name": "stdout",
     "output_type": "stream",
     "text": [
      "+-------------+---------+-----+------+-------------+--------------+------------------+\n",
      "|    timestamp|visitorid|event|itemid|transactionid|next_timestamp|time_spent_seconds|\n",
      "+-------------+---------+-----+------+-------------+--------------+------------------+\n",
      "|1442352267167|        4| view|177677|         NULL|          NULL|              NULL|\n",
      "|1431581976753|        7| view|139394|         NULL| 1431582162817|           186.064|\n",
      "|1431582162817|        7| view|164941|         NULL| 1431750039214|        167876.397|\n",
      "|1431750039214|        7| view|226353|         NULL|          NULL|              NULL|\n",
      "|1433030513812|        8| view|434230|         NULL|          NULL|              NULL|\n",
      "|1438713029611|       10| view|248766|         NULL|          NULL|              NULL|\n",
      "|1430668212744|       12| view| 70225|         NULL|          NULL|              NULL|\n",
      "|1433650323043|       23| view| 44608|         NULL| 1434075948023|         425624.98|\n",
      "|1434075948023|       23| view|283916|         NULL| 1434077771188|          1823.165|\n",
      "|1434077771188|       23| view|283916|         NULL|          NULL|              NULL|\n",
      "|1438045156395|       26| view|164342|         NULL|          NULL|              NULL|\n",
      "|1437727879750|       27| view|314714|         NULL|          NULL|              NULL|\n",
      "|1433580742154|       28| view|295343|         NULL|          NULL|              NULL|\n",
      "|1437492852502|       31| view|465565|         NULL|          NULL|              NULL|\n",
      "|1431650581330|       34| view|199885|         NULL|          NULL|              NULL|\n",
      "|1437274886274|       39| view| 76740|         NULL| 1439613027084|        2338140.81|\n",
      "|1439613027084|       39| view| 76740|         NULL|          NULL|              NULL|\n",
      "|1431401844989|       44| view| 11729|         NULL|          NULL|              NULL|\n",
      "|1432583885846|       49| view|156173|         NULL|          NULL|              NULL|\n",
      "|1436562484552|       50| view|331168|         NULL|          NULL|              NULL|\n",
      "+-------------+---------+-----+------+-------------+--------------+------------------+\n",
      "only showing top 20 rows\n",
      "\n"
     ]
    },
    {
     "name": "stderr",
     "output_type": "stream",
     "text": [
      "                                                                                "
     ]
    }
   ],
   "source": [
    "# Fenêtre : groupé par visitorid (et éventuellement transactionid si tu veux isoler les sessions d'achat),\n",
    "# trié par timestamp\n",
    "windowSpec = Window.partitionBy(\"visitorid\").orderBy(\"timestamp\")\n",
    "\n",
    "# Récupérer le timestamp de l'événement suivant pour ce visiteur\n",
    "users_time = data_events.withColumn(\n",
    "    \"next_timestamp\", F.lead(\"timestamp\").over(windowSpec)\n",
    ")\n",
    "\n",
    "# Calculer le temps passé (secondes)\n",
    "users_time = users_time.withColumn(\n",
    "    \"time_spent_seconds\",\n",
    "    (F.col(\"next_timestamp\") - F.col(\"timestamp\")) / 1000\n",
    ")\n",
    "\n",
    "# Afficher le résultat\n",
    "users_time.show()"
   ]
  },
  {
   "cell_type": "markdown",
   "id": "cf219c0b-10ba-4e14-baaa-4ad8d166bcbd",
   "metadata": {},
   "source": [
    "#### <font color=\"green\">Les différents évènements"
   ]
  },
  {
   "cell_type": "code",
   "execution_count": 24,
   "id": "d689d348-df02-41ee-b753-0fb13ce345d4",
   "metadata": {},
   "outputs": [
    {
     "name": "stderr",
     "output_type": "stream",
     "text": [
      "[Stage 22:==============>                                           (1 + 3) / 4]"
     ]
    },
    {
     "name": "stdout",
     "output_type": "stream",
     "text": [
      "+-----------+\n",
      "|      event|\n",
      "+-----------+\n",
      "|transaction|\n",
      "|  addtocart|\n",
      "|       view|\n",
      "+-----------+\n",
      "\n"
     ]
    },
    {
     "name": "stderr",
     "output_type": "stream",
     "text": [
      "                                                                                "
     ]
    }
   ],
   "source": [
    "users_time.select('event').distinct().show()"
   ]
  },
  {
   "cell_type": "markdown",
   "id": "309cd829-2be9-4bf2-a207-81d38e31af85",
   "metadata": {},
   "source": [
    "#### <font color=\"green\">Temps d'utilisateurs par transaction "
   ]
  },
  {
   "cell_type": "code",
   "execution_count": 27,
   "id": "f1fe4f1c-e259-4fd0-b867-8b1d9d7cbff8",
   "metadata": {},
   "outputs": [
    {
     "name": "stderr",
     "output_type": "stream",
     "text": [
      "[Stage 32:==============>                                           (1 + 3) / 4]"
     ]
    },
    {
     "name": "stdout",
     "output_type": "stream",
     "text": [
      "+-------------+---------+-----------+------+-------------+--------------+----------+\n",
      "|timestamp    |visitorid|event      |itemid|transactionid|next_timestamp|time_spent|\n",
      "+-------------+---------+-----------+------+-------------+--------------+----------+\n",
      "|1430713169917|243592   |transaction|295613|9810         |1442352882196 |3233:15:12|\n",
      "|1430666959685|729806   |transaction|317436|2410         |1442195166046 |3202:16:46|\n",
      "|1431564765536|1027767  |transaction|434277|10818        |1442508504828 |3039:55:39|\n",
      "|1431031797329|661382   |transaction|112831|7183         |1441930872025 |3027:31:14|\n",
      "|1431376601896|1058213  |transaction|32581 |9007         |1442198633624 |3006:07:11|\n",
      "|1430627474950|266417   |transaction|301359|12546        |1440868157041 |2844:38:02|\n",
      "|1432446065373|1117333  |transaction|42002 |6831         |1442467815769 |2783:49:10|\n",
      "|1431903675073|1030794  |transaction|193828|2632         |1441575298444 |2686:33:43|\n",
      "|1431830495979|988412   |transaction|449757|10900        |1441406476700 |2659:59:40|\n",
      "|1432614424731|711410   |transaction|349539|2943         |1441936717489 |2589:31:32|\n",
      "|1433281430657|85555    |transaction|368283|17285        |1442347634558 |2518:23:23|\n",
      "|1433275976637|331270   |transaction|180751|12271        |1442165504332 |2469:18:47|\n",
      "|1433212286455|956011   |transaction|338308|3051         |1441994704607 |2439:33:38|\n",
      "|1433123826038|456079   |transaction|179290|16673        |1441749396838 |2395:59:30|\n",
      "|1430673730939|307276   |transaction|4001  |2458         |1439263522990 |2386:03:12|\n",
      "|1431545287122|677255   |transaction|294438|15607        |1440115343871 |2380:34:16|\n",
      "|1432526269243|273630   |transaction|256164|10261        |1441085390041 |2377:32:00|\n",
      "|1432689079172|442692   |transaction|465135|10713        |1441230148436 |2372:31:09|\n",
      "|1431841419985|289743   |transaction|291877|13585        |1440276555958 |2343:05:35|\n",
      "|1433980594700|804836   |transaction|459264|13825        |1442348118663 |2324:18:43|\n",
      "+-------------+---------+-----------+------+-------------+--------------+----------+\n",
      "only showing top 20 rows\n",
      "\n"
     ]
    },
    {
     "name": "stderr",
     "output_type": "stream",
     "text": [
      "                                                                                "
     ]
    }
   ],
   "source": [
    "# filtrer les événements par transaction et conversion de \"time_spent_seconds\" en \"time_spent\"\n",
    "users_time_transaction = (\n",
    "    users_time\n",
    "    .filter(users_time[\"event\"].isin([\"transaction\", \"time_spent_seconds\"]))\n",
    "    .withColumn(\"hours\", (F.col(\"time_spent_seconds\") / 3600).cast(\"int\"))\n",
    "    .withColumn(\"minutes\", ((F.col(\"time_spent_seconds\") % 3600) / 60).cast(\"int\"))\n",
    "    .withColumn(\"seconds\", (F.col(\"time_spent_seconds\") % 60).cast(\"int\"))\n",
    "    .withColumn(\n",
    "        \"time_spent\",\n",
    "        F.format_string(\"%02d:%02d:%02d\", F.col(\"hours\"), F.col(\"minutes\"), F.col(\"seconds\"))\n",
    "    )\n",
    "    .orderBy(F.col(\"time_spent_seconds\").desc())  # tri correct sur la durée réelle\n",
    "    .select(\"timestamp\", \"visitorid\", \"event\", \"itemid\", \"transactionid\",\n",
    "            \"next_timestamp\", \"time_spent\")\n",
    ")\n",
    "users_time_transaction.show(truncate=False)"
   ]
  },
  {
   "cell_type": "markdown",
   "id": "bc723eb1-d6cb-49f8-bea1-01a7a6e8ef20",
   "metadata": {},
   "source": [
    "##### CONSTAT: <font color=\"red\">On peut remarquer que ceux qui ont effectué une transaction ont beaucoup passé de temps sur le site."
   ]
  },
  {
   "cell_type": "markdown",
   "id": "32f9513f-de14-4bc6-9834-84749a37edfa",
   "metadata": {},
   "source": [
    "### <font color=\"green\">Temps d'utiliseurs par addtocart"
   ]
  },
  {
   "cell_type": "code",
   "execution_count": 28,
   "id": "c6252701-74f0-45bd-9dea-661f66d20cbe",
   "metadata": {},
   "outputs": [
    {
     "name": "stderr",
     "output_type": "stream",
     "text": [
      "[Stage 37:>                                                         (0 + 4) / 4]"
     ]
    },
    {
     "name": "stdout",
     "output_type": "stream",
     "text": [
      "+-------------+---------+---------+------+-------------+--------------+----------+\n",
      "|timestamp    |visitorid|event    |itemid|transactionid|next_timestamp|time_spent|\n",
      "+-------------+---------+---------+------+-------------+--------------+----------+\n",
      "|1430812534038|1172312  |addtocart|293279|NULL         |1442255935756 |3178:43:21|\n",
      "|1431308539025|151125   |addtocart|236203|NULL         |1442460370043 |3097:43:51|\n",
      "|1430840723540|1241044  |addtocart|159174|NULL         |1441859641956 |3060:48:38|\n",
      "|1431973757238|292557   |addtocart|354233|NULL         |1442518797364 |2929:10:40|\n",
      "|1432057670268|346506   |addtocart|276704|NULL         |1442463913574 |2890:37:23|\n",
      "|1431448054472|996698   |addtocart|331510|NULL         |1441722228166 |2853:56:13|\n",
      "|1431888758736|1205949  |addtocart|379432|NULL         |1441317947063 |2619:13:08|\n",
      "|1432777452200|631732   |addtocart|157725|NULL         |1442159830340 |2606:12:58|\n",
      "|1432016623960|2004     |addtocart|132772|NULL         |1441321625904 |2584:43:21|\n",
      "|1431982689705|1256041  |addtocart|1152  |NULL         |1441121236418 |2538:29:06|\n",
      "|1431633200576|961832   |addtocart|263316|NULL         |1440686379017 |2514:46:18|\n",
      "|1432927396697|404046   |addtocart|356455|NULL         |1441935036686 |2502:07:19|\n",
      "|1433187819062|1381164  |addtocart|453390|NULL         |1442195444129 |2502:07:05|\n",
      "|1432539892712|30863    |addtocart|131026|NULL         |1441418317567 |2466:13:44|\n",
      "|1431460857884|446103   |addtocart|84310 |NULL         |1440109467058 |2402:23:29|\n",
      "|1433186091481|283862   |addtocart|442521|NULL         |1441808386097 |2395:04:54|\n",
      "|1432514928053|597810   |addtocart|262603|NULL         |1440902664481 |2329:55:36|\n",
      "|1430628238966|1130101  |addtocart|27494 |NULL         |1439003913907 |2326:34:34|\n",
      "|1432768893517|1348861  |addtocart|41217 |NULL         |1441049418961 |2300:08:45|\n",
      "|1431047852161|146419   |addtocart|126887|NULL         |1439270180643 |2283:58:48|\n",
      "+-------------+---------+---------+------+-------------+--------------+----------+\n",
      "only showing top 20 rows\n",
      "\n"
     ]
    },
    {
     "name": "stderr",
     "output_type": "stream",
     "text": [
      "                                                                                "
     ]
    }
   ],
   "source": [
    "# filtrer les événements par addtocart\n",
    "users_time_transaction = (\n",
    "    users_time\n",
    "    .filter(users_time[\"event\"].isin([\"addtocart\", \"time_spent_seconds\"]))\n",
    "    .withColumn(\"hours\", (F.col(\"time_spent_seconds\") / 3600).cast(\"int\"))\n",
    "    .withColumn(\"minutes\", ((F.col(\"time_spent_seconds\") % 3600) / 60).cast(\"int\"))\n",
    "    .withColumn(\"seconds\", (F.col(\"time_spent_seconds\") % 60).cast(\"int\"))\n",
    "    .withColumn(\n",
    "        \"time_spent\",\n",
    "        F.format_string(\"%02d:%02d:%02d\", F.col(\"hours\"), F.col(\"minutes\"), F.col(\"seconds\"))\n",
    "    )\n",
    "    .orderBy(F.col(\"time_spent_seconds\").desc())  # tri correct sur la durée réelle\n",
    "    .select(\"timestamp\", \"visitorid\", \"event\", \"itemid\", \"transactionid\",\n",
    "            \"next_timestamp\", \"time_spent\")\n",
    ")\n",
    "users_time_transaction.show(truncate=False)"
   ]
  },
  {
   "cell_type": "markdown",
   "id": "c446b50c-616d-484c-b3f0-4a2161fa60fe",
   "metadata": {},
   "source": [
    "##### CONSTAT: <font color=\"red\">On peut remarquer que ceux qui ont ajouter la carte n'ont effectué aucune transaction mais ont beaucoup passé de temps sur le site."
   ]
  },
  {
   "cell_type": "markdown",
   "id": "f3da1ab7-bc84-4d41-8c3b-c1e111955646",
   "metadata": {},
   "source": [
    "#### <font color=\"green\">Temps d'utilisateurs par vue"
   ]
  },
  {
   "cell_type": "code",
   "execution_count": 29,
   "id": "b1e45b3b-726c-42bd-a2e1-b3ea0779a13a",
   "metadata": {},
   "outputs": [
    {
     "name": "stderr",
     "output_type": "stream",
     "text": [
      "[Stage 40:>                                                         (0 + 4) / 4]"
     ]
    },
    {
     "name": "stdout",
     "output_type": "stream",
     "text": [
      "+-------------+---------+-----+------+-------------+--------------+----------+\n",
      "|timestamp    |visitorid|event|itemid|transactionid|next_timestamp|time_spent|\n",
      "+-------------+---------+-----+------+-------------+--------------+----------+\n",
      "|1430754061469|35852    |view |304774|NULL         |1442541512487 |3274:17:31|\n",
      "|1430683624408|147749   |view |193776|NULL         |1442436610946 |3264:43:06|\n",
      "|1430863641839|228468   |view |72062 |NULL         |1442525591865 |3239:25:50|\n",
      "|1430924817945|593446   |view |408172|NULL         |1442528565686 |3223:15:47|\n",
      "|1430775400802|608895   |view |372845|NULL         |1442376282462 |3222:28:01|\n",
      "|1430703422555|70725    |view |306419|NULL         |1442303818385 |3222:19:55|\n",
      "|1430807603515|506412   |view |350629|NULL         |1442387381643 |3216:36:18|\n",
      "|1430800415368|597960   |view |51947 |NULL         |1442376945644 |3215:42:10|\n",
      "|1430846105727|321238   |view |264392|NULL         |1442421764175 |3215:27:38|\n",
      "|1430678763264|757516   |view |264746|NULL         |1442241479107 |3211:51:55|\n",
      "|1430684081521|550276   |view |367906|NULL         |1442244286117 |3211:10:04|\n",
      "|1430716544284|1342962  |view |352231|NULL         |1442265047360 |3207:55:03|\n",
      "|1430756941625|207901   |view |71594 |NULL         |1442285699730 |3202:25:58|\n",
      "|1430852197184|599412   |view |100384|NULL         |1442378106762 |3201:38:29|\n",
      "|1431022162457|870423   |view |92668 |NULL         |1442531279664 |3196:58:37|\n",
      "|1430849499227|1218560  |view |79316 |NULL         |1442349332262 |3194:23:53|\n",
      "|1430711794434|315928   |view |22389 |NULL         |1442210660455 |3194:07:46|\n",
      "|1430948997926|523199   |view |458868|NULL         |1442447143042 |3193:55:45|\n",
      "|1430708597472|370231   |view |162239|NULL         |1442206385928 |3193:49:48|\n",
      "|1430789143263|697838   |view |362591|NULL         |1442285805817 |3193:31:02|\n",
      "+-------------+---------+-----+------+-------------+--------------+----------+\n",
      "only showing top 20 rows\n",
      "\n"
     ]
    },
    {
     "name": "stderr",
     "output_type": "stream",
     "text": [
      "                                                                                "
     ]
    }
   ],
   "source": [
    "# Pour filtrer les événements par vue\n",
    "# filtrer les événements par addtocart\n",
    "users_time_transaction = (\n",
    "    users_time\n",
    "    .filter(users_time[\"event\"].isin([\"view\", \"time_spent_seconds\"]))\n",
    "    .withColumn(\"hours\", (F.col(\"time_spent_seconds\") / 3600).cast(\"int\"))\n",
    "    .withColumn(\"minutes\", ((F.col(\"time_spent_seconds\") % 3600) / 60).cast(\"int\"))\n",
    "    .withColumn(\"seconds\", (F.col(\"time_spent_seconds\") % 60).cast(\"int\"))\n",
    "    .withColumn(\n",
    "        \"time_spent\",\n",
    "        F.format_string(\"%02d:%02d:%02d\", F.col(\"hours\"), F.col(\"minutes\"), F.col(\"seconds\"))\n",
    "    )\n",
    "    .orderBy(F.col(\"time_spent_seconds\").desc())  # tri correct sur la durée réelle\n",
    "    .select(\"timestamp\", \"visitorid\", \"event\", \"itemid\", \"transactionid\",\n",
    "            \"next_timestamp\", \"time_spent\")\n",
    ")\n",
    "users_time_transaction.show(truncate=False)"
   ]
  },
  {
   "cell_type": "markdown",
   "id": "aa0a75b7-5e08-4ad4-aade-49101e141880",
   "metadata": {},
   "source": [
    "##### CONSTAT: <font color=\"red\">On peut remarquer que ceux qui ont vu les articles n'ont effectué aucune transaction mais ont beaucoup passé de temps sur le site."
   ]
  },
  {
   "cell_type": "markdown",
   "id": "c3ac1fb4-3a00-4c9e-a920-cb1f13fa4dfd",
   "metadata": {},
   "source": [
    "ANALYSE:"
   ]
  },
  {
   "cell_type": "markdown",
   "id": "3674554e-f1fe-4c29-ab8a-0eda07ac488b",
   "metadata": {},
   "source": [
    "#### On comprend par analyse qu'un client peut voir un article et même ajouter un article au panier, ça ne garantit pas l'achat de l'article."
   ]
  },
  {
   "cell_type": "markdown",
   "id": "c0a23765-4af6-4282-86fc-ade7b6185348",
   "metadata": {},
   "source": [
    "## ANALYSE SUR LA CATEGORIE D'ARTICLES"
   ]
  },
  {
   "cell_type": "markdown",
   "id": "de44775e-994a-41db-84bb-ecea6ce3f438",
   "metadata": {},
   "source": [
    "#### <font color=\"green\"> TEMPS PASSE SUR CHAQUE CATEGORIE D'ARTICLES DU SITE "
   ]
  },
  {
   "cell_type": "code",
   "execution_count": 30,
   "id": "24927c66-6e63-4230-8e83-9677d6731eec",
   "metadata": {
    "scrolled": true
   },
   "outputs": [
    {
     "name": "stderr",
     "output_type": "stream",
     "text": [
      "[Stage 48:>                                                         (0 + 1) / 1]"
     ]
    },
    {
     "name": "stdout",
     "output_type": "stream",
     "text": [
      "+------+-------------+----------+--------------------+---------+-----+-------------+--------------+------------------+\n",
      "|itemid|    timestamp|  property|               value|visitorid|event|transactionid|next_timestamp|time_spent_seconds|\n",
      "+------+-------------+----------+--------------------+---------+-----+-------------+--------------+------------------+\n",
      "|  7913|1435460400000|       888|       618068 253573|     NULL| NULL|         NULL|          NULL|              NULL|\n",
      "| 23287|1436670000000| available|                   0|     NULL| NULL|         NULL|          NULL|              NULL|\n",
      "| 26065|1435460400000|       790|         n193200.000|     NULL| NULL|         NULL|          NULL|              NULL|\n",
      "| 26515|1431226800000|         6|             1103229|     NULL| NULL|         NULL|          NULL|              NULL|\n",
      "| 33864|1439694000000|       790|          n28068.000|     NULL| NULL|         NULL|          NULL|              NULL|\n",
      "| 59481|1431226800000|       790|          n15360.000|     NULL| NULL|         NULL|          NULL|              NULL|\n",
      "| 85199|1431226800000|       776|              373401|     NULL| NULL|         NULL|          NULL|              NULL|\n",
      "| 88564|1433041200000|       888|1207060 1122339 9...|     NULL| NULL|         NULL|          NULL|              NULL|\n",
      "| 98113|1434250800000|       451|     1141052 n48.000|     NULL| NULL|         NULL|          NULL|              NULL|\n",
      "|115407|1439089200000|categoryid|                 491|     NULL| NULL|         NULL|          NULL|              NULL|\n",
      "|128508|1435460400000|       852|             1116693|     NULL| NULL|         NULL|          NULL|              NULL|\n",
      "|128665|1431226800000| available|                   0|     NULL| NULL|         NULL|          NULL|              NULL|\n",
      "|132256|1439694000000|       976|     n26.400 1135780|     NULL| NULL|         NULL|          NULL|              NULL|\n",
      "|134825|1435460400000|       678|               39147|     NULL| NULL|         NULL|          NULL|              NULL|\n",
      "|153864|1433041200000|       784|              769062|     NULL| NULL|         NULL|          NULL|              NULL|\n",
      "|156781|1431831600000|       917|              828513|     NULL| NULL|         NULL|          NULL|              NULL|\n",
      "|162765|1436670000000|       888|               19393|     NULL| NULL|         NULL|          NULL|              NULL|\n",
      "|167947|1442113200000|       978|       684814 234274|     NULL| NULL|         NULL|          NULL|              NULL|\n",
      "|181253|1433041200000|       202|              622163|     NULL| NULL|         NULL|          NULL|              NULL|\n",
      "|186518|1437274800000| available|                   0|     NULL| NULL|         NULL|          NULL|              NULL|\n",
      "+------+-------------+----------+--------------------+---------+-----+-------------+--------------+------------------+\n",
      "only showing top 20 rows\n",
      "\n"
     ]
    },
    {
     "name": "stderr",
     "output_type": "stream",
     "text": [
      "                                                                                "
     ]
    }
   ],
   "source": [
    "# Jointure avec la table data_item_properties et users_time\n",
    "item_properties_time = data_item_properties.join(\n",
    "    users_time,\n",
    "    on=[\"itemid\",\"timestamp\"],\n",
    "    how=\"left\"\n",
    ")\n",
    "# Afficher item_properties_time\n",
    "item_properties_time.show()"
   ]
  },
  {
   "cell_type": "markdown",
   "id": "52852a63-0e0d-45fd-8b21-2f7fe3c0f1c3",
   "metadata": {},
   "source": [
    "#### <font color=\"green\">Produits disponibles "
   ]
  },
  {
   "cell_type": "code",
   "execution_count": 33,
   "id": "1ad93621-c2a3-49f3-933d-72b13f20c4e5",
   "metadata": {},
   "outputs": [
    {
     "name": "stderr",
     "output_type": "stream",
     "text": [
      "[Stage 60:>                                                         (0 + 4) / 4]"
     ]
    },
    {
     "name": "stdout",
     "output_type": "stream",
     "text": [
      "+------+-------------+---------+-----+---------+-----+-------------+--------------+------------------+\n",
      "|itemid|    timestamp| property|value|visitorid|event|transactionid|next_timestamp|time_spent_seconds|\n",
      "+------+-------------+---------+-----+---------+-----+-------------+--------------+------------------+\n",
      "|  9744|1440298800000|available|    1|     NULL| NULL|         NULL|          NULL|              NULL|\n",
      "| 20026|1442113200000|available|    0|     NULL| NULL|         NULL|          NULL|              NULL|\n",
      "| 23287|1436670000000|available|    0|     NULL| NULL|         NULL|          NULL|              NULL|\n",
      "|100993|1431226800000|available|    0|     NULL| NULL|         NULL|          NULL|              NULL|\n",
      "|101887|1437879600000|available|    0|     NULL| NULL|         NULL|          NULL|              NULL|\n",
      "|102974|1431831600000|available|    1|     NULL| NULL|         NULL|          NULL|              NULL|\n",
      "|106601|1431831600000|available|    0|     NULL| NULL|         NULL|          NULL|              NULL|\n",
      "|107539|1436065200000|available|    1|     NULL| NULL|         NULL|          NULL|              NULL|\n",
      "|126135|1433646000000|available|    0|     NULL| NULL|         NULL|          NULL|              NULL|\n",
      "|128665|1431226800000|available|    0|     NULL| NULL|         NULL|          NULL|              NULL|\n",
      "|135918|1431226800000|available|    0|     NULL| NULL|         NULL|          NULL|              NULL|\n",
      "|150629|1433041200000|available|    0|     NULL| NULL|         NULL|          NULL|              NULL|\n",
      "|164091|1431226800000|available|    0|     NULL| NULL|         NULL|          NULL|              NULL|\n",
      "|165289|1437879600000|available|    1|     NULL| NULL|         NULL|          NULL|              NULL|\n",
      "|167075|1439089200000|available|    0|     NULL| NULL|         NULL|          NULL|              NULL|\n",
      "|186518|1437274800000|available|    0|     NULL| NULL|         NULL|          NULL|              NULL|\n",
      "|209979|1432436400000|available|    1|     NULL| NULL|         NULL|          NULL|              NULL|\n",
      "|235907|1431226800000|available|    1|     NULL| NULL|         NULL|          NULL|              NULL|\n",
      "|260611|1436065200000|available|    1|     NULL| NULL|         NULL|          NULL|              NULL|\n",
      "|268068|1431831600000|available|    0|     NULL| NULL|         NULL|          NULL|              NULL|\n",
      "+------+-------------+---------+-----+---------+-----+-------------+--------------+------------------+\n",
      "only showing top 20 rows\n",
      "\n"
     ]
    },
    {
     "name": "stderr",
     "output_type": "stream",
     "text": [
      "                                                                                "
     ]
    }
   ],
   "source": [
    "# Filtrer les propriétés par article disponible\n",
    "product_available= item_properties_time.filter(item_properties_time[\"property\"] == \"available\")\n",
    "product_available.show()"
   ]
  },
  {
   "cell_type": "code",
   "execution_count": 36,
   "id": "b3e19912-ef77-4e38-ba29-5216f5193331",
   "metadata": {},
   "outputs": [
    {
     "name": "stderr",
     "output_type": "stream",
     "text": [
      "[Stage 78:>                                                         (0 + 4) / 4]"
     ]
    },
    {
     "name": "stdout",
     "output_type": "stream",
     "text": [
      "Le nombre d'articles disponibles est :640553\n"
     ]
    },
    {
     "name": "stderr",
     "output_type": "stream",
     "text": [
      "                                                                                "
     ]
    }
   ],
   "source": [
    "# Nombre d'articles disponibles\n",
    "nbr_product_available= product_available.filter(product_available[\"value\"] == 1).count()\n",
    "print(f\"Le nombre d'articles disponibles est :{nbr_product_available}\")"
   ]
  },
  {
   "cell_type": "code",
   "execution_count": 37,
   "id": "d56f51c7-54dc-48b5-b5f1-f2d84f5ca46f",
   "metadata": {},
   "outputs": [
    {
     "name": "stderr",
     "output_type": "stream",
     "text": [
      "[Stage 87:>                                                         (0 + 4) / 5]"
     ]
    },
    {
     "name": "stdout",
     "output_type": "stream",
     "text": [
      "+-------------+\n",
      "|transactionid|\n",
      "+-------------+\n",
      "|         NULL|\n",
      "+-------------+\n",
      "\n"
     ]
    },
    {
     "name": "stderr",
     "output_type": "stream",
     "text": [
      "                                                                                "
     ]
    }
   ],
   "source": [
    "# voir les valeurs uniques \"product_available\"\n",
    "product_available.select('transactionid').distinct().show()"
   ]
  },
  {
   "cell_type": "markdown",
   "id": "e4f67abb-a494-479f-8158-4b3b2c4fc603",
   "metadata": {},
   "source": [
    "ANALYSE:"
   ]
  },
  {
   "cell_type": "markdown",
   "id": "498a0a75-2375-4abb-82ed-2862c024972b",
   "metadata": {},
   "source": [
    "#### Aucun article disponible n'a été acheté et n'a reçu aucune visite donc <font color=\"red\">nous comprenons que ces articles n'attirent nullement l'attention."
   ]
  },
  {
   "cell_type": "code",
   "execution_count": null,
   "id": "1abdc9e7-cfd8-434c-9fc5-70a38a3f71af",
   "metadata": {},
   "outputs": [],
   "source": []
  },
  {
   "cell_type": "markdown",
   "id": "da13d723-a55d-4082-b06b-6cce967d050c",
   "metadata": {},
   "source": [
    "# TEST A/B"
   ]
  },
  {
   "cell_type": "code",
   "execution_count": null,
   "id": "1af5a5ab-42e4-4720-a495-b5a75d18a814",
   "metadata": {},
   "outputs": [],
   "source": []
  }
 ],
 "metadata": {
  "kernelspec": {
   "display_name": "Python 3 (ipykernel)",
   "language": "python",
   "name": "python3"
  },
  "language_info": {
   "codemirror_mode": {
    "name": "ipython",
    "version": 3
   },
   "file_extension": ".py",
   "mimetype": "text/x-python",
   "name": "python",
   "nbconvert_exporter": "python",
   "pygments_lexer": "ipython3",
   "version": "3.10.12"
  }
 },
 "nbformat": 4,
 "nbformat_minor": 5
}
